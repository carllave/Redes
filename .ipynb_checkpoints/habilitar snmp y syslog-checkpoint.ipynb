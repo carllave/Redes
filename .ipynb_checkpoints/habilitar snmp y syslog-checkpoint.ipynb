{
 "cells": [
  {
   "cell_type": "markdown",
   "metadata": {},
   "source": [
    "# Configurar snmp en router o switch cisco"
   ]
  },
  {
   "cell_type": "markdown",
   "metadata": {},
   "source": [
    "Habilitar snmp comunidad **snmp-cisco-rw** para lectura y escritura y  otra comunidad **snmp-cisco** para solo lectura"
   ]
  },
  {
   "cell_type": "markdown",
   "metadata": {},
   "source": [
    "**TOPOLOGIA:**\n",
    "<img src=\"1.png\">"
   ]
  },
  {
   "cell_type": "markdown",
   "metadata": {},
   "source": [
    "<p style=\"background:black\">\n",
    "<code style=\"background:black;color:white\">config t\n",
    "snmp-server community snmp-cisco-rw RW\n",
    "snmp-server community snmp-cisco RO\n",
    "</code>\n",
    "</p>"
   ]
  },
  {
   "cell_type": "markdown",
   "metadata": {},
   "source": [
    "Habilitar syslog y enviar tramas debug a servidor syslog con **ip 192.168.1.100**"
   ]
  },
  {
   "cell_type": "markdown",
   "metadata": {},
   "source": [
    "<p style=\"background:black\">\n",
    "<code style=\"background:black;color:white\">config t\n",
    "logging on\n",
    "logging 192.168.1.100\n",
    "logging trap debugging \n",
    "</code>\n",
    "</p>"
   ]
  },
  {
   "cell_type": "markdown",
   "metadata": {},
   "source": [
    "**HABILITAMOS SERVICIO SYSLOG EN SERVIDOR:**\n",
    "<img src=\"2.png\">"
   ]
  },
  {
   "cell_type": "markdown",
   "metadata": {},
   "source": [
    "**Accedemos desde PC por servicio Desktop MIB Browser - Configuramos las comunidades de lectura y escritura creados:**\n",
    "<img src=\"3.png\">"
   ]
  },
  {
   "cell_type": "markdown",
   "metadata": {},
   "source": [
    "**Accedemos desde PC por servicio Desktop MIB Browser - Get para obtener datos de la comunidad:**\n",
    "<img src=\"4.png\">"
   ]
  },
  {
   "cell_type": "markdown",
   "metadata": {},
   "source": [
    "**Accedemos desde PC por servicio Desktop MIB Browser - Set para cambiar hostname del equipo:**\n",
    "<img src=\"5.png\">"
   ]
  },
  {
   "cell_type": "markdown",
   "metadata": {},
   "source": [
    "Video Tutorial: https://www.youtube.com/watch?v=7W8t1lpVDeo"
   ]
  },
  {
   "cell_type": "code",
   "execution_count": null,
   "metadata": {},
   "outputs": [],
   "source": []
  }
 ],
 "metadata": {
  "kernelspec": {
   "display_name": "Python 3",
   "language": "python",
   "name": "python3"
  },
  "language_info": {
   "codemirror_mode": {
    "name": "ipython",
    "version": 3
   },
   "file_extension": ".py",
   "mimetype": "text/x-python",
   "name": "python",
   "nbconvert_exporter": "python",
   "pygments_lexer": "ipython3",
   "version": "3.8.5"
  }
 },
 "nbformat": 4,
 "nbformat_minor": 4
}
